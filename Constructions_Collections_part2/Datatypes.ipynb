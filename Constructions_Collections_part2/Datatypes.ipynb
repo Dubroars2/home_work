{
 "cells": [
  {
   "cell_type": "code",
   "execution_count": 3,
   "metadata": {},
   "outputs": [
    {
     "name": "stdout",
     "output_type": "stream",
     "text": [
      "t\n"
     ]
    }
   ],
   "source": [
    "# Задача 1\n",
    "word = \"testing\"\n",
    "calc_len = len(word) % 2\n",
    "if calc_len == 1:\n",
    "    from_index = int((len(word)-1)/2)\n",
    "    to_index = int((len(word)-1)/2+1)\n",
    "    print(word[from_index:to_index])\n",
    "else:\n",
    "    cut_1 = int(len(word)/ 2-1)\n",
    "    cut_2 = int(len(word)/ 2 +1)\n",
    "    print(word[cut_1:cut_2])"
   ]
  },
  {
   "cell_type": "code",
   "execution_count": 4,
   "metadata": {},
   "outputs": [
    {
     "name": "stdout",
     "output_type": "stream",
     "text": [
      "2\n",
      "3\n",
      "4\n",
      "6\n",
      "10\n",
      "10\n",
      "20\n",
      "0\n",
      "20\n"
     ]
    }
   ],
   "source": [
    "# Задание 2 \n",
    "x_number = int(input())\n",
    "sumx = 1\n",
    "while x_number:\n",
    "    if x_number != 0:\n",
    "        x_number = int(input())\n",
    "    sumx += x_number\n",
    "    #break\n",
    "    print(sumx)\n",
    "    "
   ]
  },
  {
   "cell_type": "code",
   "execution_count": 5,
   "metadata": {},
   "outputs": [
    {
     "name": "stdout",
     "output_type": "stream",
     "text": [
      "('Alex', 'Alex')\n",
      "('Arthur', 'Emma')\n",
      "('John', 'Kate')\n",
      "('Peter', 'Liza')\n",
      "('Richard', 'Trisha')\n"
     ]
    }
   ],
   "source": [
    "# Задание 3\n",
    "boys = [\"Peter\", \"Alex\", \"John\", \"Arthur\", \"Richard\"]\n",
    "girls = [\"Kate\", \"Liza\", \"Alex\", \"Emma\", \"Trisha\"]\n",
    "pairs = list(zip(sorted(boys),sorted(girls)))\n",
    "if len(boys) == len(girls):\n",
    "    for new_pairs in pairs:\n",
    "        print(new_pairs)\n",
    "else: \n",
    "    print(\"кто-то может остаться без пары!\")"
   ]
  },
  {
   "cell_type": "code",
   "execution_count": 7,
   "metadata": {},
   "outputs": [
    {
     "name": "stdout",
     "output_type": "stream",
     "text": [
      "Средняя температура в странах:\n",
      "Thailand - 23.9 C\n",
      "Germany - 13.8 C\n",
      "Russia - 3.7 C\n",
      "Poland - 12.0 C\n"
     ]
    }
   ],
   "source": [
    " #Задание 4 \n",
    "\n",
    "\n",
    "\n",
    "\n",
    "countries_temperature = [\n",
    "    ['Thailand', [75.2, 77, 78.8, 73.4, 68, 75.2, 77]],\n",
    "    ['Germany', [57.2, 55.4, 59, 59, 53.6]],\n",
    "    ['Russia', [35.6, 37.4, 39.2, 41, 42.8, 39.2, 35.6]],\n",
    "    ['Poland', [50, 50, 53.6, 57.2, 55.4, 55.4]]\n",
    "]\n",
    "\n",
    "\n",
    "sum_temp = 0\n",
    "average_temp = 0\n",
    "print(\"Средняя температура в странах:\")\n",
    "for temp_intial in countries_temperature:\n",
    "    #print(temp_intial[0])\n",
    "    sum_temp = sum(temp_intial[1])\n",
    "    average_temp = round((sum_temp / len(temp_intial[1]) - 32) * 5 / 9,1)\n",
    "    print(f\"{temp_intial[0]} - {average_temp} C\")\n",
    "    \n",
    "\n",
    "    \n",
    "\n"
   ]
  },
  {
   "cell_type": "code",
   "execution_count": 21,
   "metadata": {},
   "outputs": [
    {
     "name": "stdout",
     "output_type": "stream",
     "text": [
      "23.25\n",
      "['user1', 'user2', 'user3', 'user4']\n"
     ]
    }
   ],
   "source": [
    "# Задание 5 (нахождение уникальных значений, убирать дубли)\n",
    "stream = [    \n",
    "      \n",
    "    '2018-01-01,user1,3',\n",
    "    '2018-01-07,user1,4',\n",
    "    '2018-03-29,user1,1',\n",
    "    '2018-04-04,user1,13',\n",
    "    '2018-01-05,user2,7',\n",
    "    '2018-06-14,user3,4',\n",
    "    '2018-07-02,user3,10',\n",
    "    '2018-03-21,user4,19',\n",
    "    '2018-03-22,user4,4',\n",
    "    '2018-04-22,user4,8',\n",
    "    '2018-05-03,user4,9',\n",
    "    '2018-05-11,user4,11',\n",
    "]\n",
    "\n",
    "views = 0\n",
    "users = []\n",
    "\n",
    "for string_split in stream:\n",
    "    string_split_result = string_split.split(\",\")\n",
    "    #print(string_split_result)\n",
    "    views += int(string_split_result[2])\n",
    "    #print(views)\n",
    "    if string_split_result[1] not in users:\n",
    "           users.append(string_split_result[1])\n",
    "print(views / len(users))\n",
    "print(users)\n"
   ]
  },
  {
   "cell_type": "code",
   "execution_count": 22,
   "metadata": {},
   "outputs": [
    {
     "name": "stdout",
     "output_type": "stream",
     "text": [
      "93\n"
     ]
    }
   ],
   "source": [
    "print(views)"
   ]
  }
 ],
 "metadata": {
  "kernelspec": {
   "display_name": "Python 3",
   "language": "python",
   "name": "python3"
  },
  "language_info": {
   "codemirror_mode": {
    "name": "ipython",
    "version": 3
   },
   "file_extension": ".py",
   "mimetype": "text/x-python",
   "name": "python",
   "nbconvert_exporter": "python",
   "pygments_lexer": "ipython3",
   "version": "3.8.5"
  }
 },
 "nbformat": 4,
 "nbformat_minor": 4
}
