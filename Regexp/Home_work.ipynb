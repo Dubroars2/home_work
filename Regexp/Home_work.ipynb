{
 "cells": [
  {
   "cell_type": "code",
   "execution_count": null,
   "metadata": {},
   "outputs": [],
   "source": [
    "# Задание 1"
   ]
  },
  {
   "cell_type": "code",
   "execution_count": 23,
   "metadata": {},
   "outputs": [],
   "source": [
    "car_id = \"A224BC96\""
   ]
  },
  {
   "cell_type": "code",
   "execution_count": 4,
   "metadata": {},
   "outputs": [],
   "source": [
    "import re"
   ]
  },
  {
   "cell_type": "code",
   "execution_count": 9,
   "metadata": {},
   "outputs": [
    {
     "data": {
      "text/plain": [
       "'96'"
      ]
     },
     "execution_count": 9,
     "metadata": {},
     "output_type": "execute_result"
    }
   ],
   "source": [
    "test2 = r'([A-Z]{1})(\\d{3})([A-Z]{2})(\\d{2})'\n",
    "re.search(test2, car_id).group(4)"
   ]
  },
  {
   "cell_type": "code",
   "execution_count": 24,
   "metadata": {},
   "outputs": [
    {
     "name": "stdout",
     "output_type": "stream",
     "text": [
      "Номер A224BC96 валиден. Регион 96\n"
     ]
    }
   ],
   "source": [
    "def account_check(x):\n",
    "    rules = r'([A-Z]{1})(\\d{3})([A-Z]{2})(\\d{2})'\n",
    "    try:\n",
    "        full_check = re.search(rules, car_id).group(4)\n",
    "        return (f'Номер {car_id} валиден. Регион {full_check}')\n",
    "    except:\n",
    "        return \"Номер не валиден\"\n",
    "    \n",
    "print(account_check(car_id))"
   ]
  },
  {
   "cell_type": "code",
   "execution_count": 30,
   "metadata": {},
   "outputs": [],
   "source": [
    "# Задание 2\n",
    "some_string = 'Напишите Напишите функцию функцию, которая будет будет будет будет удалять все все все все последовательные повторы слов из из из из заданной строки строки при помощи регулярных выражений.'"
   ]
  },
  {
   "cell_type": "code",
   "execution_count": 51,
   "metadata": {},
   "outputs": [
    {
     "name": "stdout",
     "output_type": "stream",
     "text": [
      "Напишите функцию, которая будет удалять все последовательные повторы слов из заданной строки при помощи регулярных выражений.\n"
     ]
    }
   ],
   "source": [
    "def remove_dupl(x):\n",
    "    return  re.sub(r'\\b(\\w+)(\\W+\\1\\b)+',r'\\1',some_string)\n",
    "print(remove_dupl(some_string))"
   ]
  },
  {
   "cell_type": "code",
   "execution_count": 142,
   "metadata": {},
   "outputs": [],
   "source": [
    "# Задание 3\n",
    "some_words = 'Информационные технологии'\n",
    "some_words_2 = 'Near Field Communication'"
   ]
  },
  {
   "cell_type": "code",
   "execution_count": 219,
   "metadata": {},
   "outputs": [
    {
     "name": "stdout",
     "output_type": "stream",
     "text": [
      "NFC\n"
     ]
    }
   ],
   "source": [
    "def ank(x): \n",
    "    d = re.findall(r'[A-Z]|[А-Я]', x.title())\n",
    "    return (\"\".join(d))\n",
    "\n",
    "print(ank(some_words_2))\n"
   ]
  },
  {
   "cell_type": "code",
   "execution_count": 55,
   "metadata": {},
   "outputs": [],
   "source": [
    "# Задание 4\n",
    "emails = ['test@gmail.com', 'xyz@test.in', 'test@ya.ru', 'xyz@mail.ru', 'xyz@ya.ru', 'xyz@gmail.com']"
   ]
  },
  {
   "cell_type": "code",
   "execution_count": 126,
   "metadata": {},
   "outputs": [
    {
     "name": "stdout",
     "output_type": "stream",
     "text": [
      "@gmail.com: 2\n",
      "@test.in: 1\n",
      "@ya.ru: 2\n",
      "@mail.ru: 1\n"
     ]
    }
   ],
   "source": [
    "\n",
    "count_list = {}\n",
    "mail_rules = r'(?:@)\\w+\\.\\w+'\n",
    "for i in emails:\n",
    "    m = re.findall(mail_rules, i)\n",
    "    for str_list in m:\n",
    "       # print(str_list)\n",
    "        if str_list in count_list:\n",
    "            count_list[str_list] += 1\n",
    "        else:\n",
    "            count_list[str_list] = 1\n",
    "for final_list in count_list.items():\n",
    "    print(f'{final_list[0]}: {final_list[1]}') \n",
    "   \n",
    "    #for key_ in count_list:\n",
    "     #   if count_list[key_] > 1:\n",
    "      #      print(key_, count_list[key_])\n",
    "               \n",
    "    "
   ]
  }
 ],
 "metadata": {
  "kernelspec": {
   "display_name": "Python 3",
   "language": "python",
   "name": "python3"
  },
  "language_info": {
   "codemirror_mode": {
    "name": "ipython",
    "version": 3
   },
   "file_extension": ".py",
   "mimetype": "text/x-python",
   "name": "python",
   "nbconvert_exporter": "python",
   "pygments_lexer": "ipython3",
   "version": "3.8.5"
  }
 },
 "nbformat": 4,
 "nbformat_minor": 4
}
