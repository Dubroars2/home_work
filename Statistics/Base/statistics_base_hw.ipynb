{
 "cells": [
  {
   "cell_type": "code",
   "execution_count": null,
   "metadata": {},
   "outputs": [],
   "source": [
    "#Задание 1. Загрузка данных\n",
    "\"\"\"\n",
    "Изучить представленный набор данных на основе описания его столбцов, загрузить его и оставить 8 столбцов \n",
    "для дальнейшего изучения: \n",
    "surgery?, Age, rectal temperature, pulse, respiratory rate, \n",
    "temperature of extremities, pain, outcome.\n",
    "\n",
    "\"\"\""
   ]
  },
  {
   "cell_type": "code",
   "execution_count": 1,
   "metadata": {},
   "outputs": [],
   "source": [
    "import pandas as pd\n",
    "import numpy as np"
   ]
  },
  {
   "cell_type": "code",
   "execution_count": 2,
   "metadata": {},
   "outputs": [
    {
     "data": {
      "text/html": [
       "<div>\n",
       "<style scoped>\n",
       "    .dataframe tbody tr th:only-of-type {\n",
       "        vertical-align: middle;\n",
       "    }\n",
       "\n",
       "    .dataframe tbody tr th {\n",
       "        vertical-align: top;\n",
       "    }\n",
       "\n",
       "    .dataframe thead th {\n",
       "        text-align: right;\n",
       "    }\n",
       "</style>\n",
       "<table border=\"1\" class=\"dataframe\">\n",
       "  <thead>\n",
       "    <tr style=\"text-align: right;\">\n",
       "      <th></th>\n",
       "      <th>2</th>\n",
       "      <th>1</th>\n",
       "      <th>530101</th>\n",
       "      <th>38.50</th>\n",
       "      <th>66</th>\n",
       "      <th>28</th>\n",
       "      <th>3</th>\n",
       "      <th>3.1</th>\n",
       "      <th>?</th>\n",
       "      <th>2.1</th>\n",
       "      <th>...</th>\n",
       "      <th>45.00</th>\n",
       "      <th>8.40</th>\n",
       "      <th>?.4</th>\n",
       "      <th>?.5</th>\n",
       "      <th>2.2</th>\n",
       "      <th>2.3</th>\n",
       "      <th>11300</th>\n",
       "      <th>00000</th>\n",
       "      <th>00000.1</th>\n",
       "      <th>2.4</th>\n",
       "    </tr>\n",
       "  </thead>\n",
       "  <tbody>\n",
       "    <tr>\n",
       "      <th>0</th>\n",
       "      <td>1.0</td>\n",
       "      <td>1</td>\n",
       "      <td>534817</td>\n",
       "      <td>39.2</td>\n",
       "      <td>88.0</td>\n",
       "      <td>20.0</td>\n",
       "      <td>NaN</td>\n",
       "      <td>NaN</td>\n",
       "      <td>4.0</td>\n",
       "      <td>1.0</td>\n",
       "      <td>...</td>\n",
       "      <td>50.0</td>\n",
       "      <td>85.0</td>\n",
       "      <td>2.0</td>\n",
       "      <td>2.0</td>\n",
       "      <td>3.0</td>\n",
       "      <td>2</td>\n",
       "      <td>2208</td>\n",
       "      <td>0</td>\n",
       "      <td>0</td>\n",
       "      <td>2</td>\n",
       "    </tr>\n",
       "  </tbody>\n",
       "</table>\n",
       "<p>1 rows × 28 columns</p>\n",
       "</div>"
      ],
      "text/plain": [
       "     2  1  530101  38.50    66    28   3  3.1    ?  2.1  ...  45.00  8.40  \\\n",
       "0  1.0  1  534817   39.2  88.0  20.0 NaN  NaN  4.0  1.0  ...   50.0  85.0   \n",
       "\n",
       "   ?.4  ?.5  2.2  2.3  11300  00000  00000.1  2.4  \n",
       "0  2.0  2.0  3.0    2   2208      0        0    2  \n",
       "\n",
       "[1 rows x 28 columns]"
      ]
     },
     "execution_count": 2,
     "metadata": {},
     "output_type": "execute_result"
    }
   ],
   "source": [
    "df = pd.read_csv(\"horse_data.csv\", na_values = \"?\")\n",
    "df.head(1)"
   ]
  },
  {
   "cell_type": "code",
   "execution_count": null,
   "metadata": {},
   "outputs": [],
   "source": []
  },
  {
   "cell_type": "code",
   "execution_count": 3,
   "metadata": {},
   "outputs": [
    {
     "data": {
      "text/html": [
       "<div>\n",
       "<style scoped>\n",
       "    .dataframe tbody tr th:only-of-type {\n",
       "        vertical-align: middle;\n",
       "    }\n",
       "\n",
       "    .dataframe tbody tr th {\n",
       "        vertical-align: top;\n",
       "    }\n",
       "\n",
       "    .dataframe thead th {\n",
       "        text-align: right;\n",
       "    }\n",
       "</style>\n",
       "<table border=\"1\" class=\"dataframe\">\n",
       "  <thead>\n",
       "    <tr style=\"text-align: right;\">\n",
       "      <th></th>\n",
       "      <th>surgery?</th>\n",
       "      <th>Age</th>\n",
       "      <th>rectal temperature</th>\n",
       "      <th>pulse</th>\n",
       "      <th>respiratory rate</th>\n",
       "      <th>temperature of extremities</th>\n",
       "      <th>pain</th>\n",
       "      <th>outcome</th>\n",
       "    </tr>\n",
       "  </thead>\n",
       "  <tbody>\n",
       "    <tr>\n",
       "      <th>0</th>\n",
       "      <td>1.0</td>\n",
       "      <td>1</td>\n",
       "      <td>39.2</td>\n",
       "      <td>88.0</td>\n",
       "      <td>20.0</td>\n",
       "      <td>NaN</td>\n",
       "      <td>3.0</td>\n",
       "      <td>3.0</td>\n",
       "    </tr>\n",
       "    <tr>\n",
       "      <th>1</th>\n",
       "      <td>2.0</td>\n",
       "      <td>1</td>\n",
       "      <td>38.3</td>\n",
       "      <td>40.0</td>\n",
       "      <td>24.0</td>\n",
       "      <td>1.0</td>\n",
       "      <td>3.0</td>\n",
       "      <td>1.0</td>\n",
       "    </tr>\n",
       "    <tr>\n",
       "      <th>2</th>\n",
       "      <td>1.0</td>\n",
       "      <td>9</td>\n",
       "      <td>39.1</td>\n",
       "      <td>164.0</td>\n",
       "      <td>84.0</td>\n",
       "      <td>4.0</td>\n",
       "      <td>2.0</td>\n",
       "      <td>2.0</td>\n",
       "    </tr>\n",
       "    <tr>\n",
       "      <th>3</th>\n",
       "      <td>2.0</td>\n",
       "      <td>1</td>\n",
       "      <td>37.3</td>\n",
       "      <td>104.0</td>\n",
       "      <td>35.0</td>\n",
       "      <td>NaN</td>\n",
       "      <td>NaN</td>\n",
       "      <td>2.0</td>\n",
       "    </tr>\n",
       "    <tr>\n",
       "      <th>4</th>\n",
       "      <td>2.0</td>\n",
       "      <td>1</td>\n",
       "      <td>NaN</td>\n",
       "      <td>NaN</td>\n",
       "      <td>NaN</td>\n",
       "      <td>2.0</td>\n",
       "      <td>2.0</td>\n",
       "      <td>1.0</td>\n",
       "    </tr>\n",
       "    <tr>\n",
       "      <th>5</th>\n",
       "      <td>1.0</td>\n",
       "      <td>1</td>\n",
       "      <td>37.9</td>\n",
       "      <td>48.0</td>\n",
       "      <td>16.0</td>\n",
       "      <td>1.0</td>\n",
       "      <td>3.0</td>\n",
       "      <td>1.0</td>\n",
       "    </tr>\n",
       "    <tr>\n",
       "      <th>6</th>\n",
       "      <td>1.0</td>\n",
       "      <td>1</td>\n",
       "      <td>NaN</td>\n",
       "      <td>60.0</td>\n",
       "      <td>NaN</td>\n",
       "      <td>3.0</td>\n",
       "      <td>NaN</td>\n",
       "      <td>2.0</td>\n",
       "    </tr>\n",
       "    <tr>\n",
       "      <th>7</th>\n",
       "      <td>2.0</td>\n",
       "      <td>1</td>\n",
       "      <td>NaN</td>\n",
       "      <td>80.0</td>\n",
       "      <td>36.0</td>\n",
       "      <td>3.0</td>\n",
       "      <td>4.0</td>\n",
       "      <td>3.0</td>\n",
       "    </tr>\n",
       "    <tr>\n",
       "      <th>8</th>\n",
       "      <td>2.0</td>\n",
       "      <td>9</td>\n",
       "      <td>38.3</td>\n",
       "      <td>90.0</td>\n",
       "      <td>NaN</td>\n",
       "      <td>1.0</td>\n",
       "      <td>5.0</td>\n",
       "      <td>1.0</td>\n",
       "    </tr>\n",
       "    <tr>\n",
       "      <th>9</th>\n",
       "      <td>1.0</td>\n",
       "      <td>1</td>\n",
       "      <td>38.1</td>\n",
       "      <td>66.0</td>\n",
       "      <td>12.0</td>\n",
       "      <td>3.0</td>\n",
       "      <td>3.0</td>\n",
       "      <td>1.0</td>\n",
       "    </tr>\n",
       "  </tbody>\n",
       "</table>\n",
       "</div>"
      ],
      "text/plain": [
       "   surgery?  Age  rectal temperature  pulse  respiratory rate  \\\n",
       "0       1.0    1                39.2   88.0              20.0   \n",
       "1       2.0    1                38.3   40.0              24.0   \n",
       "2       1.0    9                39.1  164.0              84.0   \n",
       "3       2.0    1                37.3  104.0              35.0   \n",
       "4       2.0    1                 NaN    NaN               NaN   \n",
       "5       1.0    1                37.9   48.0              16.0   \n",
       "6       1.0    1                 NaN   60.0               NaN   \n",
       "7       2.0    1                 NaN   80.0              36.0   \n",
       "8       2.0    9                38.3   90.0               NaN   \n",
       "9       1.0    1                38.1   66.0              12.0   \n",
       "\n",
       "   temperature of extremities  pain  outcome  \n",
       "0                         NaN   3.0      3.0  \n",
       "1                         1.0   3.0      1.0  \n",
       "2                         4.0   2.0      2.0  \n",
       "3                         NaN   NaN      2.0  \n",
       "4                         2.0   2.0      1.0  \n",
       "5                         1.0   3.0      1.0  \n",
       "6                         3.0   NaN      2.0  \n",
       "7                         3.0   4.0      3.0  \n",
       "8                         1.0   5.0      1.0  \n",
       "9                         3.0   3.0      1.0  "
      ]
     },
     "execution_count": 3,
     "metadata": {},
     "output_type": "execute_result"
    }
   ],
   "source": [
    "# Переименовываю столбцы\n",
    "\n",
    "need_list = [\"surgery?\", \"Age\", \"rectal temperature\", \"pulse\", \"respiratory rate\", \"temperature of extremities\", \"pain\", \"outcome\"]\n",
    "\n",
    "new_data = df.rename({'2':'surgery?','1':'Age','530101':'Hospital Numbe','38.50':'rectal temperature','66':'pulse',\n",
    "                      '28':'respiratory rate','3':'temperature of extremities','3.1':'peripheral pulse','?':'mucous membranes',\n",
    "                      '2.1':'capillary refill time','5':'pain','4':'peristalsis','4.1':'abdominal distension','?.1':'nasogastric tube',\n",
    "                      '?.2':'nasogastric reflux','?.3':'nasogastric reflux PH','3.2':'rectal examination','5.1':'abdomen',\n",
    "                      '45.00':'packed cell volume','8.40':'total protein','?.4':'abdominocentesis appearance','?.5':'abdomcentesis total protein',\n",
    "                      '2.2':'outcome','2.3':'surgical lesion?','11300':'type of lesion','00000':'type of lesion','00000.1':'type of lesion',\n",
    "                      '2.4':'cp_data'}\n",
    "\n",
    ", axis =1)\n",
    "\n",
    "# оставляю только нужные\n",
    "new_data = new_data.loc[:, new_data.columns.isin(need_list)]\n",
    "new_data.head(10)\n"
   ]
  },
  {
   "cell_type": "code",
   "execution_count": 4,
   "metadata": {},
   "outputs": [
    {
     "data": {
      "text/plain": [
       "['surgery?',\n",
       " 'Age',\n",
       " 'rectal temperature',\n",
       " 'pulse',\n",
       " 'respiratory rate',\n",
       " 'temperature of extremities',\n",
       " 'pain',\n",
       " 'outcome']"
      ]
     },
     "execution_count": 4,
     "metadata": {},
     "output_type": "execute_result"
    }
   ],
   "source": [
    "names = list(new_data.columns.values)\n",
    "names"
   ]
  },
  {
   "cell_type": "code",
   "execution_count": null,
   "metadata": {},
   "outputs": [],
   "source": []
  },
  {
   "cell_type": "code",
   "execution_count": null,
   "metadata": {},
   "outputs": [],
   "source": [
    "#Задание 2. Первичное изучение данных\n",
    "\"\"\"\n",
    "Проанализировать значения по столбцам, рассчитать базовые статистики, найти выбросы\n",
    "\"\"\""
   ]
  },
  {
   "cell_type": "code",
   "execution_count": 5,
   "metadata": {},
   "outputs": [
    {
     "data": {
      "text/html": [
       "<div>\n",
       "<style scoped>\n",
       "    .dataframe tbody tr th:only-of-type {\n",
       "        vertical-align: middle;\n",
       "    }\n",
       "\n",
       "    .dataframe tbody tr th {\n",
       "        vertical-align: top;\n",
       "    }\n",
       "\n",
       "    .dataframe thead th {\n",
       "        text-align: right;\n",
       "    }\n",
       "</style>\n",
       "<table border=\"1\" class=\"dataframe\">\n",
       "  <thead>\n",
       "    <tr style=\"text-align: right;\">\n",
       "      <th></th>\n",
       "      <th>surgery?</th>\n",
       "      <th>Age</th>\n",
       "      <th>rectal temperature</th>\n",
       "      <th>pulse</th>\n",
       "      <th>respiratory rate</th>\n",
       "      <th>temperature of extremities</th>\n",
       "      <th>pain</th>\n",
       "      <th>outcome</th>\n",
       "    </tr>\n",
       "  </thead>\n",
       "  <tbody>\n",
       "    <tr>\n",
       "      <th>count</th>\n",
       "      <td>298.000000</td>\n",
       "      <td>299.00000</td>\n",
       "      <td>239.000000</td>\n",
       "      <td>275.000000</td>\n",
       "      <td>241.000000</td>\n",
       "      <td>243.000000</td>\n",
       "      <td>244.000000</td>\n",
       "      <td>298.000000</td>\n",
       "    </tr>\n",
       "    <tr>\n",
       "      <th>mean</th>\n",
       "      <td>1.395973</td>\n",
       "      <td>1.64214</td>\n",
       "      <td>38.166527</td>\n",
       "      <td>71.934545</td>\n",
       "      <td>30.427386</td>\n",
       "      <td>2.345679</td>\n",
       "      <td>2.942623</td>\n",
       "      <td>1.550336</td>\n",
       "    </tr>\n",
       "    <tr>\n",
       "      <th>std</th>\n",
       "      <td>0.489881</td>\n",
       "      <td>2.17730</td>\n",
       "      <td>0.733508</td>\n",
       "      <td>28.680522</td>\n",
       "      <td>17.678256</td>\n",
       "      <td>1.046369</td>\n",
       "      <td>1.303993</td>\n",
       "      <td>0.737967</td>\n",
       "    </tr>\n",
       "    <tr>\n",
       "      <th>min</th>\n",
       "      <td>1.000000</td>\n",
       "      <td>1.00000</td>\n",
       "      <td>35.400000</td>\n",
       "      <td>30.000000</td>\n",
       "      <td>8.000000</td>\n",
       "      <td>1.000000</td>\n",
       "      <td>1.000000</td>\n",
       "      <td>1.000000</td>\n",
       "    </tr>\n",
       "    <tr>\n",
       "      <th>25%</th>\n",
       "      <td>1.000000</td>\n",
       "      <td>1.00000</td>\n",
       "      <td>37.800000</td>\n",
       "      <td>48.000000</td>\n",
       "      <td>18.000000</td>\n",
       "      <td>1.000000</td>\n",
       "      <td>2.000000</td>\n",
       "      <td>1.000000</td>\n",
       "    </tr>\n",
       "    <tr>\n",
       "      <th>50%</th>\n",
       "      <td>1.000000</td>\n",
       "      <td>1.00000</td>\n",
       "      <td>38.200000</td>\n",
       "      <td>64.000000</td>\n",
       "      <td>24.000000</td>\n",
       "      <td>3.000000</td>\n",
       "      <td>3.000000</td>\n",
       "      <td>1.000000</td>\n",
       "    </tr>\n",
       "    <tr>\n",
       "      <th>75%</th>\n",
       "      <td>2.000000</td>\n",
       "      <td>1.00000</td>\n",
       "      <td>38.500000</td>\n",
       "      <td>88.000000</td>\n",
       "      <td>36.000000</td>\n",
       "      <td>3.000000</td>\n",
       "      <td>4.000000</td>\n",
       "      <td>2.000000</td>\n",
       "    </tr>\n",
       "    <tr>\n",
       "      <th>max</th>\n",
       "      <td>2.000000</td>\n",
       "      <td>9.00000</td>\n",
       "      <td>40.800000</td>\n",
       "      <td>184.000000</td>\n",
       "      <td>96.000000</td>\n",
       "      <td>4.000000</td>\n",
       "      <td>5.000000</td>\n",
       "      <td>3.000000</td>\n",
       "    </tr>\n",
       "  </tbody>\n",
       "</table>\n",
       "</div>"
      ],
      "text/plain": [
       "         surgery?        Age  rectal temperature       pulse  \\\n",
       "count  298.000000  299.00000          239.000000  275.000000   \n",
       "mean     1.395973    1.64214           38.166527   71.934545   \n",
       "std      0.489881    2.17730            0.733508   28.680522   \n",
       "min      1.000000    1.00000           35.400000   30.000000   \n",
       "25%      1.000000    1.00000           37.800000   48.000000   \n",
       "50%      1.000000    1.00000           38.200000   64.000000   \n",
       "75%      2.000000    1.00000           38.500000   88.000000   \n",
       "max      2.000000    9.00000           40.800000  184.000000   \n",
       "\n",
       "       respiratory rate  temperature of extremities        pain     outcome  \n",
       "count        241.000000                  243.000000  244.000000  298.000000  \n",
       "mean          30.427386                    2.345679    2.942623    1.550336  \n",
       "std           17.678256                    1.046369    1.303993    0.737967  \n",
       "min            8.000000                    1.000000    1.000000    1.000000  \n",
       "25%           18.000000                    1.000000    2.000000    1.000000  \n",
       "50%           24.000000                    3.000000    3.000000    1.000000  \n",
       "75%           36.000000                    3.000000    4.000000    2.000000  \n",
       "max           96.000000                    4.000000    5.000000    3.000000  "
      ]
     },
     "execution_count": 5,
     "metadata": {},
     "output_type": "execute_result"
    }
   ],
   "source": [
    "# расчет базовой статистики \n",
    "\n",
    "new_data.describe()"
   ]
  },
  {
   "cell_type": "code",
   "execution_count": 6,
   "metadata": {},
   "outputs": [],
   "source": [
    "# Нахожу выбросы через межквартильный размах\n",
    "q1 = new_data.quantile(0.25)\n",
    "q3 =  new_data.quantile(0.75)\n",
    "iqr = q3 - q1\n",
    "lower_bound = q1 - (1.5 * iqr)\n",
    "upperr_bound = q3 - (1.5 * iqr)\n",
    "\n",
    "outliers = new_data[(new_data < lower_bound) | (new_data > upperr_bound)]\n",
    "#outliers.head(100)\n",
    "#outliers.describe()"
   ]
  },
  {
   "cell_type": "code",
   "execution_count": null,
   "metadata": {},
   "outputs": [],
   "source": [
    "#Задание 3. Работа с пропусками\n",
    "\"\"\"\n",
    "Рассчитать количество пропусков для всех выбранных столбцов. Принять и обосновать решение о методе заполнения пропусков \n",
    "по каждому столбцу на основе рассчитанных статистик и возможной взаимосвязи значений в них. \n",
    "Сформировать датафрейм, в котором пропуски будут отсутствовать.\n",
    "\"\"\""
   ]
  },
  {
   "cell_type": "code",
   "execution_count": 7,
   "metadata": {},
   "outputs": [
    {
     "data": {
      "text/plain": [
       "array([1, 9], dtype=int64)"
      ]
     },
     "execution_count": 7,
     "metadata": {},
     "output_type": "execute_result"
    }
   ],
   "source": [
    "new_data[\"Age\"].unique()"
   ]
  },
  {
   "cell_type": "code",
   "execution_count": 8,
   "metadata": {},
   "outputs": [
    {
     "name": "stdout",
     "output_type": "stream",
     "text": [
      "Age\n",
      "1     60.0\n",
      "9    124.0\n",
      "Name: pulse, dtype: float64\n"
     ]
    }
   ],
   "source": [
    "print(new_data.groupby(\"Age\")[\"pulse\"].median())"
   ]
  },
  {
   "cell_type": "code",
   "execution_count": 9,
   "metadata": {},
   "outputs": [
    {
     "data": {
      "text/plain": [
       "surgery?                       0.33\n",
       "Age                            0.00\n",
       "rectal temperature            20.07\n",
       "pulse                          8.03\n",
       "respiratory rate              19.40\n",
       "temperature of extremities    18.73\n",
       "pain                          18.39\n",
       "outcome                        0.33\n",
       "dtype: float64"
      ]
     },
     "execution_count": 9,
     "metadata": {},
     "output_type": "execute_result"
    }
   ],
   "source": [
    "#Расчитываю сколько пропусков всего\n",
    "(new_data.isna().mean() * 100).round(2)"
   ]
  },
  {
   "cell_type": "code",
   "execution_count": null,
   "metadata": {},
   "outputs": [],
   "source": [
    "\"\"\"\n",
    "1. surgery и outcome имеют меньше 0,5% пропусков из общего массива. Можно заменить модой\n",
    "2. pulse имеет 8% пропусков. Ст отклонение достаточно большое. нужно тогда брать медиану. Будем считать, что возврас влияет\n",
    "3. rectal temperature, respiratory rate, temperature of extremities, pain  очень много пропусков. \n",
    "Будем считать, что возврас влияет и хирургия. Берем медиану\n",
    "\"\"\""
   ]
  },
  {
   "cell_type": "code",
   "execution_count": 10,
   "metadata": {},
   "outputs": [
    {
     "data": {
      "text/plain": [
       "1.0    180\n",
       "2.0    118\n",
       "Name: surgery?, dtype: int64"
      ]
     },
     "execution_count": 10,
     "metadata": {},
     "output_type": "execute_result"
    }
   ],
   "source": [
    "without_nan_data = new_data\n",
    "without_nan_data[\"surgery?\"].fillna(without_nan_data[\"surgery?\"].mode()[0], inplace = True)\n",
    "\n",
    "without_nan_data[\"surgery?\"].value_counts()"
   ]
  },
  {
   "cell_type": "code",
   "execution_count": 11,
   "metadata": {},
   "outputs": [
    {
     "data": {
      "text/plain": [
       "array([ 1.,  2., nan])"
      ]
     },
     "execution_count": 11,
     "metadata": {},
     "output_type": "execute_result"
    }
   ],
   "source": [
    "without_nan_data[\"surgery?\"].unique()"
   ]
  },
  {
   "cell_type": "code",
   "execution_count": 36,
   "metadata": {},
   "outputs": [
    {
     "data": {
      "text/plain": [
       "array([20., 24., 84., 35., 16., 36., 30., 12., 52., 28., 48., 21., 60.,\n",
       "       34., 42., 96., 72., 15., 44., 32., 22., 18., 80., 40., 10., 51.,\n",
       "       68., 66.,  9., 14., 90.,  8., 23., 58., 13., 70., 26., 88., 25.,\n",
       "       50.])"
      ]
     },
     "execution_count": 36,
     "metadata": {},
     "output_type": "execute_result"
    }
   ],
   "source": [
    "#Меняю проруски по правилам выше\n",
    "first_point = [\"surgery?\", \"outcome\"]\n",
    "new_data[\"outcome\"].fillna(new_data[\"outcome\"].mode()[0], inplace = True)  \n",
    "new_data[\"surgery?\"].fillna(new_data[\"surgery?\"].mode()[0], inplace = True)\n",
    "new_data[\"pulse\"].fillna(new_data.groupby(\"Age\")[\"pulse\"].transform(\"median\"), inplace = True)\n",
    "new_data[\"rectal temperature\"].fillna(new_data.groupby([\"Age\", \"surgery?\"])[\"rectal temperature\"].transform(\"median\"), inplace = True)\n",
    "new_data[\"temperature of extremities\"].fillna(new_data.groupby([\"Age\", \"surgery?\"])[\"temperature of extremities\"].transform(\"median\"), inplace = True)\n",
    "new_data[\"pain\"].fillna(new_data.groupby([\"Age\", \"surgery?\"])[\"pain\"].transform(\"median\"), inplace = True)\n",
    "new_data[\"respiratory rate\"].fillna(new_data.groupby([\"Age\", \"surgery?\"])[\"respiratory rate\"].transform(\"median\"), inplace = True)\n",
    "\n",
    "\n",
    "\n",
    "new_data[\"respiratory rate\"].unique()\n",
    "#new_data[\"pulse\"].value_counts()\n"
   ]
  },
  {
   "cell_type": "code",
   "execution_count": 38,
   "metadata": {},
   "outputs": [
    {
     "data": {
      "text/plain": [
       "surgery?                      0.0\n",
       "Age                           0.0\n",
       "rectal temperature            0.0\n",
       "pulse                         0.0\n",
       "respiratory rate              0.0\n",
       "temperature of extremities    0.0\n",
       "pain                          0.0\n",
       "outcome                       0.0\n",
       "dtype: float64"
      ]
     },
     "execution_count": 38,
     "metadata": {},
     "output_type": "execute_result"
    }
   ],
   "source": [
    "(new_data.isna().mean() * 100).round(2)"
   ]
  }
 ],
 "metadata": {
  "kernelspec": {
   "display_name": "Python 3",
   "language": "python",
   "name": "python3"
  },
  "language_info": {
   "codemirror_mode": {
    "name": "ipython",
    "version": 3
   },
   "file_extension": ".py",
   "mimetype": "text/x-python",
   "name": "python",
   "nbconvert_exporter": "python",
   "pygments_lexer": "ipython3",
   "version": "3.8.5"
  }
 },
 "nbformat": 4,
 "nbformat_minor": 4
}
