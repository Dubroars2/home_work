{
 "cells": [
  {
   "cell_type": "code",
   "execution_count": null,
   "metadata": {},
   "outputs": [],
   "source": [
    "\"\"\"\n",
    "Смоделировать игру против лотерейного автомата типа “777”. Игрок платит 1 руб., после чего выпадает случайное целое число, \n",
    "равномерно распределенное от 0 до 999. При некоторых значениях числа игрок получает выигрыш (см. справа)\n",
    "\n",
    "Выгодна ли игра игроку?\n",
    "\n",
    "Сколько в среднем приобретает\n",
    "или теряет игрок за одну игру?\n",
    "\n",
    "777: 200 руб.\n",
    "999: 100 руб.\n",
    "555: 50 руб.\n",
    "333: 15 руб.\n",
    "111: 10 руб.\n",
    "*77: 5 руб.\n",
    "**7: 3 руб.\n",
    "*00: 2 руб.\n",
    "**0: 1 руб.\n",
    "\n",
    "\"\"\""
   ]
  },
  {
   "cell_type": "code",
   "execution_count": 3,
   "metadata": {},
   "outputs": [],
   "source": [
    "import numpy as np"
   ]
  },
  {
   "cell_type": "code",
   "execution_count": 628,
   "metadata": {},
   "outputs": [
    {
     "name": "stdout",
     "output_type": "stream",
     "text": [
      " Ваш выигрш составил: 45 рублей\n",
      " Вы потратили: 100 рублей\n",
      "0.45\n",
      "0.001001001001001001\n"
     ]
    },
    {
     "data": {
      "text/plain": [
       "'\\n\\n\\n'"
      ]
     },
     "execution_count": 628,
     "metadata": {},
     "output_type": "execute_result"
    }
   ],
   "source": [
    "trials = 100\n",
    "win = 0\n",
    "np.random.seed()\n",
    "list_for_duble_0 = [10, 20, 30, 40, 50 ,60 ,70 ,80,90]\n",
    "list_for_single_0 = range(11, 100)\n",
    "\n",
    "\n",
    "for i in range(trials):\n",
    "    random_event =  np.random.randint(0, 1000)\n",
    "    #print(random_event)\n",
    "    if random_event / 10 in list_for_duble_0:\n",
    "        win += 2\n",
    "    elif random_event / 10 in list_for_single_0 and random_event / 10 not in list_for_duble_0:\n",
    "        win += 1\n",
    "    elif random_event == 111:\n",
    "        win += 10\n",
    "    elif random_event == 333:\n",
    "        win += 15\n",
    "    elif random_event == 555:\n",
    "        win += 50\n",
    "    elif random_event == 999:\n",
    "        win += 100\n",
    "    elif random_event == 777:\n",
    "        win += 200\n",
    "    elif random_event % 100 == 77:\n",
    "        win += 5\n",
    "    elif random_event % 10 == 7:\n",
    "        win += 3\n",
    "\n",
    "print(f' Ваш выигрш составил: {win} рублей')\n",
    "print(f' Вы потратили: {trials} рублей')\n",
    "print(win / trials) # Вероятность из моделирования\n",
    "print(1/999)  # Теоретическая вероятность\n",
    "\n",
    "\n",
    "\"\"\"\n",
    "Игра невыгодна, вероятность, что выпадет выигрышная комбинация очень мала, стремится  к 0   \n",
    "\n",
    "\"\"\"\n"
   ]
  }
 ],
 "metadata": {
  "kernelspec": {
   "display_name": "Python 3",
   "language": "python",
   "name": "python3"
  },
  "language_info": {
   "codemirror_mode": {
    "name": "ipython",
    "version": 3
   },
   "file_extension": ".py",
   "mimetype": "text/x-python",
   "name": "python",
   "nbconvert_exporter": "python",
   "pygments_lexer": "ipython3",
   "version": "3.8.5"
  }
 },
 "nbformat": 4,
 "nbformat_minor": 4
}
