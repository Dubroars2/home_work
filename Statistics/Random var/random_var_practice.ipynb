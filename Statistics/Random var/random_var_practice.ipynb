{
 "cells": [
  {
   "cell_type": "code",
   "execution_count": 1,
   "metadata": {},
   "outputs": [],
   "source": [
    "import numpy as np"
   ]
  },
  {
   "cell_type": "code",
   "execution_count": 2,
   "metadata": {},
   "outputs": [
    {
     "data": {
      "text/plain": [
       "2"
      ]
     },
     "execution_count": 2,
     "metadata": {},
     "output_type": "execute_result"
    }
   ],
   "source": [
    "# генерируем дискретную величину\n",
    "np.random.randint(1, 5)"
   ]
  },
  {
   "cell_type": "code",
   "execution_count": 3,
   "metadata": {},
   "outputs": [
    {
     "data": {
      "text/plain": [
       "array([1, 4, 1, 2, 4, 3, 1, 4, 4, 2])"
      ]
     },
     "execution_count": 3,
     "metadata": {},
     "output_type": "execute_result"
    }
   ],
   "source": [
    "np.random.randint(1, 5, 10)"
   ]
  },
  {
   "cell_type": "code",
   "execution_count": 10,
   "metadata": {},
   "outputs": [
    {
     "data": {
      "text/plain": [
       "array([0.94237345, 0.47116627, 0.30605308, 0.64121227, 0.34697399,\n",
       "       0.55536543, 0.50625323, 0.19118953, 0.32933841, 0.72268184])"
      ]
     },
     "execution_count": 10,
     "metadata": {},
     "output_type": "execute_result"
    }
   ],
   "source": [
    "# генерируем непрерывную величину\n",
    "np.random.random(10)"
   ]
  },
  {
   "cell_type": "code",
   "execution_count": 14,
   "metadata": {},
   "outputs": [
    {
     "data": {
      "text/plain": [
       "3.5997068938891585"
      ]
     },
     "execution_count": 14,
     "metadata": {},
     "output_type": "execute_result"
    }
   ],
   "source": [
    "np.random.uniform(1, 5)"
   ]
  },
  {
   "cell_type": "code",
   "execution_count": 149,
   "metadata": {},
   "outputs": [
    {
     "data": {
      "text/plain": [
       "array([3.41879142, 4.79124325, 3.94075836, 2.62405391, 4.17938791,\n",
       "       3.37200719, 3.36789251, 3.68949939, 1.63571429, 4.46279203])"
      ]
     },
     "execution_count": 149,
     "metadata": {},
     "output_type": "execute_result"
    }
   ],
   "source": [
    "np.random.uniform(1, 5, 10)"
   ]
  },
  {
   "cell_type": "markdown",
   "metadata": {},
   "source": [
    "**Задача 1.** Оценить вероятность того, что на игральной кости выпадет больше 4 очков. Сравнить с теоретической вероятностью."
   ]
  },
  {
   "cell_type": "code",
   "execution_count": 80,
   "metadata": {},
   "outputs": [
    {
     "name": "stdout",
     "output_type": "stream",
     "text": [
      "308 1000 0.308 0.3333333333333333\n"
     ]
    }
   ],
   "source": [
    "import numpy as np\n",
    "# np.random.seed(None) #исходное состояние генератора случайных чисел. \n",
    "#Нужно задаьб любое число и цифры менятьмя не будут в рандом\n",
    "#Фиксируем рандомные числа. Нужно для того, если очень много случайных чисел и чтобы постоянно не создавал их\n",
    "trials = 1000   # Количество попыток\n",
    "successes = 0    # Количество успехов\n",
    "\n",
    "for i in range(trials):\n",
    "    random_score = np.random.randint(1, 7)    # Случайное количество очков от 1 до 6\n",
    "    if random_score > 4:\n",
    "        successes += 1\n",
    "#  Найдем частоту. Через нашу модель и через теоретический расчет   \n",
    "p_monte_carlo = successes / trials    # Вероятность из моделирования\n",
    "p = 2 / 6                             # Теоретическая вероятность\n",
    "\n",
    "print(successes, trials, p_monte_carlo, p)\n",
    "# Если мы увеличим до 1000 число попыток, то мы будем получать всегда одно и то же число до 1 знака после запятой.\n",
    "# Чем больше попыток, тем ближе наша модель будет приблежаться к расчетой вероятности\n"
   ]
  },
  {
   "cell_type": "markdown",
   "metadata": {},
   "source": [
    "**Задача 1А** (опциональная). Дан квадрат, в который вписан круг (касаясь сторон квадрата). В квадрат случайным образом попадают точки. Какова вероятность, что наугад взятая точка попадёт в круг?  \n",
    "_Подсказка:_ Удобно взять квардат со стороной, равной 2, и отсчитывать координаты точек от его центра."
   ]
  },
  {
   "cell_type": "code",
   "execution_count": 89,
   "metadata": {},
   "outputs": [
    {
     "data": {
      "text/plain": [
       "0.78555"
      ]
     },
     "execution_count": 89,
     "metadata": {},
     "output_type": "execute_result"
    }
   ],
   "source": [
    "trials = 1000000\n",
    "successes = 0\n",
    "\n",
    "for i in range(trials):\n",
    "    x = np.random.uniform(-1, 1) # круг  с центром находится  в точки 0 и сторона квадрата равна 1. Правая граница не входит \n",
    "    y = np.random.uniform(-1, 1) # круг  с центром находится  в точки 0 и сторона квадрата равна 1. Правая граница не входит \n",
    "    #корень из суммы квадрата меньше либо равен 1\n",
    "    if x**2 + y**2 < 1:\n",
    "        successes += 1\n",
    "\n",
    "# Найдем частоту, что наша точка попадет в круг, который описан квадратом.\n",
    "res = successes / trials\n",
    "res"
   ]
  },
  {
   "cell_type": "code",
   "execution_count": 85,
   "metadata": {},
   "outputs": [
    {
     "data": {
      "text/plain": [
       "3.14072"
      ]
     },
     "execution_count": 85,
     "metadata": {},
     "output_type": "execute_result"
    }
   ],
   "source": [
    "res * 4 # число пи"
   ]
  },
  {
   "cell_type": "markdown",
   "metadata": {},
   "source": [
    "**Задача 2.** Смоделировать стрельбу по мишени."
   ]
  },
  {
   "cell_type": "code",
   "execution_count": 150,
   "metadata": {},
   "outputs": [
    {
     "data": {
      "text/plain": [
       "<matplotlib.collections.PathCollection at 0x248bcaf5580>"
      ]
     },
     "execution_count": 150,
     "metadata": {},
     "output_type": "execute_result"
    },
    {
     "data": {
      "image/png": "[encoded data removed]",
      "text/plain": [
       "<Figure size 432x288 with 1 Axes>"
      ]
     },
     "metadata": {
      "needs_background": "light"
     },
     "output_type": "display_data"
    }
   ],
   "source": [
    "import matplotlib.pyplot as plt\n",
    "\n",
    "shots = 1000    # Количество выстрелов\n",
    "std_dev = 1 # Стандартное отклонение (на сколько мы в среднем будем мазать)\n",
    "\n",
    "x = np.random.normal(0, std_dev, shots) # 0 - и среднее, и мода, и медиана\n",
    "y = np.random.normal(0, std_dev, shots)\n",
    "\n",
    "\n",
    "plt.scatter(x, y)\n",
    "# почему разброс от -3 до 3? Это правило 3 сигма, что значение лежит 3сигма <= X <= 3сигма = 0,997\n",
    "#Это значит, что 997 выстрелов будет лежать в интервале 3 сигма\n",
    "#только 3 точки будут лежать за этими предалими 3сигма"
   ]
  },
  {
   "cell_type": "markdown",
   "metadata": {},
   "source": [
    "**Задача 3.** Графически определить распределение измеренных значений физической величины, когда измерительный прибор имеет случайную погрешность."
   ]
  },
  {
   "cell_type": "code",
   "execution_count": 151,
   "metadata": {},
   "outputs": [
    {
     "data": {
      "text/plain": [
       "count    1040.000000\n",
       "mean       -9.797112\n",
       "std         0.087958\n",
       "min       -10.030373\n",
       "25%        -9.866481\n",
       "50%        -9.800747\n",
       "75%        -9.727398\n",
       "max        -9.570811\n",
       "Name: az, dtype: float64"
      ]
     },
     "execution_count": 151,
     "metadata": {},
     "output_type": "execute_result"
    }
   ],
   "source": [
    "import pandas as pd\n",
    "\n",
    "data = pd.read_csv(\"data.log\", sep=\" \")[\"az\"]\n",
    "data.describe()"
   ]
  },
  {
   "cell_type": "code",
   "execution_count": 152,
   "metadata": {},
   "outputs": [
    {
     "data": {
      "text/plain": [
       "<AxesSubplot:>"
      ]
     },
     "execution_count": 152,
     "metadata": {},
     "output_type": "execute_result"
    },
    {
     "data": {
      "image/png": "[encoded data removed]",
      "text/plain": [
       "<Figure size 432x288 with 1 Axes>"
      ]
     },
     "metadata": {
      "needs_background": "light"
     },
     "output_type": "display_data"
    }
   ],
   "source": [
    "data.plot()"
   ]
  },
  {
   "cell_type": "code",
   "execution_count": 155,
   "metadata": {},
   "outputs": [],
   "source": [
    "uni = np.random.uniform(min(data), max(data), 1000)\n",
    "normal = np.random.normal(np.mean(data), np.std(data, ddof = 1), 10000)"
   ]
  },
  {
   "cell_type": "code",
   "execution_count": 156,
   "metadata": {},
   "outputs": [
    {
     "data": {
      "image/png": "[encoded data removed]",
      "text/plain": [
       "<Figure size 432x288 with 1 Axes>"
      ]
     },
     "metadata": {
      "needs_background": "light"
     },
     "output_type": "display_data"
    },
    {
     "data": {
      "image/png": "[encoded data removed]",
      "text/plain": [
       "<Figure size 432x288 with 1 Axes>"
      ]
     },
     "metadata": {
      "needs_background": "light"
     },
     "output_type": "display_data"
    },
    {
     "data": {
      "image/png": "[encoded data removed]",
      "text/plain": [
       "<Figure size 432x288 with 1 Axes>"
      ]
     },
     "metadata": {
      "needs_background": "light"
     },
     "output_type": "display_data"
    }
   ],
   "source": [
    "plt.hist(uni, bins=11) # равномерное распределение\n",
    "plt.show()\n",
    "plt.hist(normal, bins=11) # идеальное равномерное распределение\n",
    "plt.show()\n",
    "plt.hist(data, bins=11)  # наше распределение прибора\n",
    "plt.show()"
   ]
  },
  {
   "cell_type": "markdown",
   "metadata": {},
   "source": [
    "**Задача 4.** Рассчитать вероятность того, что пациент заражён COVID-19, если известно, что тест дал положительный результат. Сравнить с результатом моделирования."
   ]
  },
  {
   "cell_type": "code",
   "execution_count": 162,
   "metadata": {},
   "outputs": [
    {
     "name": "stdout",
     "output_type": "stream",
     "text": [
      "0.5187165775401069\n"
     ]
    }
   ],
   "source": [
    "prev = 0.10    # Распространённость болезни\n",
    "sens = 0.97    # Чувствительность теста\n",
    "spec = 0.90    # Специфичность теста\n",
    "\n",
    "p = (sens * prev) / (sens * prev + (1 - spec) * (1 - prev))   # Теоретическая вероятность \n",
    "print(p)"
   ]
  },
  {
   "cell_type": "code",
   "execution_count": 165,
   "metadata": {},
   "outputs": [
    {
     "name": "stdout",
     "output_type": "stream",
     "text": [
      "0.5220962272149215\n"
     ]
    }
   ],
   "source": [
    "population = 100000    # Количество испытуемых\n",
    "\n",
    "true_pos = 0    # Количество больных с положительным тестом\n",
    "false_pos = 0   # Количество здоровых с положительным тестом\n",
    "\n",
    "for i in range(population):\n",
    "    # Наугад решаем, заражён ли человек\n",
    "    # для этого генерируем случайную величину от 0 до 1     \n",
    "    infected = np.random.uniform() < prev\n",
    "    \n",
    "    # Наугад решаем, дал ли тест положительный результат \n",
    "    positive = np.random.uniform() < sens if infected else np.random.uniform() < 1 - spec\n",
    "    \n",
    "    if positive:\n",
    "        if infected:\n",
    "            true_pos += 1\n",
    "        else:\n",
    "            false_pos += 1\n",
    "            \n",
    "p_monte_carlo = true_pos / (true_pos + false_pos)    # Вероятность из моделирования\n",
    "print(p_monte_carlo)"
   ]
  }
 ],
 "metadata": {
  "kernelspec": {
   "display_name": "Python 3",
   "language": "python",
   "name": "python3"
  },
  "language_info": {
   "codemirror_mode": {
    "name": "ipython",
    "version": 3
   },
   "file_extension": ".py",
   "mimetype": "text/x-python",
   "name": "python",
   "nbconvert_exporter": "python",
   "pygments_lexer": "ipython3",
   "version": "3.8.5"
  }
 },
 "nbformat": 4,
 "nbformat_minor": 4
}
