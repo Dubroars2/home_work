{
 "cells": [
  {
   "cell_type": "code",
   "execution_count": null,
   "metadata": {},
   "outputs": [],
   "source": [
    "#Домашнее задание к лекции \"Функции\"\n",
    "#Вам нужно помочь секретарю автоматизировать работу. Для этого нужно написать программу, которая будет на основе хранимых данных исполнять пользовательские команды."
   ]
  },
  {
   "cell_type": "code",
   "execution_count": 1,
   "metadata": {},
   "outputs": [],
   "source": [
    "documents = [\n",
    " {'type': 'passport', 'number': '2207 876234', 'name': 'Василий Гупкин'},\n",
    " {'type': 'invoice', 'number': '11-2', 'name': 'Геннадий Покемонов'},\n",
    " {'type': 'insurance', 'number': '10006', 'name': 'Аристарх Павлов'}\n",
    "]"
   ]
  },
  {
   "cell_type": "code",
   "execution_count": 2,
   "metadata": {},
   "outputs": [],
   "source": [
    "directories = {\n",
    " '1': ['2207 876234', '11-2'],\n",
    " '2': ['10006'],\n",
    " '3': [\"\"]\n",
    "}"
   ]
  },
  {
   "cell_type": "code",
   "execution_count": 3,
   "metadata": {},
   "outputs": [
    {
     "name": "stdout",
     "output_type": "stream",
     "text": [
      "№: 2207 876234, тип: passport, владелец: Василий Гупкин, полка хранения: 1\n",
      "№: 11-2, тип: invoice, владелец: Геннадий Покемонов, полка хранения: 1\n",
      "№: 10006, тип: insurance, владелец: Аристарх Павлов, полка хранения: 2\n"
     ]
    }
   ],
   "source": [
    "def full_info (documents):\n",
    "    for full_data in documents:\n",
    "        number_x = full_data[\"number\"]\n",
    "        for shelf_key, shelf_value in directories.items():\n",
    "            if number_x in shelf_value:\n",
    "                print(f'№: {full_data[\"number\"]}, тип: {full_data[\"type\"]}, владелец: {full_data[\"name\"]}, полка хранения: {shelf_key}')\n",
    "                \n",
    "\n",
    "full_info(documents)\n",
    "    \n",
    "    \n",
    "            \n",
    " "
   ]
  },
  {
   "cell_type": "code",
   "execution_count": 4,
   "metadata": {},
   "outputs": [
    {
     "name": "stdout",
     "output_type": "stream",
     "text": [
      "Введите номер документа: 11-2\n",
      "Владелец документа: Геннадий Покемонов\n"
     ]
    }
   ],
   "source": [
    "\n",
    "def doc_name(number_list):\n",
    "    #user_input = input(\"Введите номер документа: \")\n",
    "    user_input = input(\"Введите номер документа: \")\n",
    "    for person_number in number_list:\n",
    "        if user_input == person_number[\"number\"]: \n",
    "            return (f'Владелец документа: {person_number[\"name\"]}')\n",
    "    return \"Документ не найден в базе\"\n",
    "\n",
    "print(doc_name(documents))\n",
    "               "
   ]
  },
  {
   "cell_type": "code",
   "execution_count": 5,
   "metadata": {},
   "outputs": [
    {
     "name": "stdout",
     "output_type": "stream",
     "text": [
      "Введите номер документа: \n"
     ]
    },
    {
     "data": {
      "text/plain": [
       "'Документ не найден в базе'"
      ]
     },
     "execution_count": 5,
     "metadata": {},
     "output_type": "execute_result"
    }
   ],
   "source": [
    "# Хранение на полке \n",
    "\n",
    "def shelf_number(directories_list):\n",
    "    user_input = input(\"Введите номер документа: \")\n",
    "    for person_number in documents:\n",
    "       #print(person_number[\"number\"])\n",
    "        if person_number[\"number\"] in user_input:\n",
    "            for list_key, list_value in directories_list.items():\n",
    "                for list_value2 in list_value:\n",
    "                    #print(list_value2) \n",
    "                    if person_number[\"number\"] == list_value2:\n",
    "                        #print(list_key)\n",
    "                        return f'Документ хранится на полке: {list_key}'\n",
    "                     \n",
    "    return \"Документ не найден в базе\"\n",
    "            \n",
    "\n",
    "shelf_number(directories)"
   ]
  },
  {
   "cell_type": "code",
   "execution_count": 6,
   "metadata": {},
   "outputs": [
    {
     "name": "stdout",
     "output_type": "stream",
     "text": [
      "Введите номер полки: \n"
     ]
    },
    {
     "data": {
      "text/plain": [
       "\"Полка добавлена. Текущий перечень полок: ['1', '2', '3'], \""
      ]
     },
     "execution_count": 6,
     "metadata": {},
     "output_type": "execute_result"
    }
   ],
   "source": [
    "# Добавление полки \n",
    "\n",
    "empty_shelf = \"\"\n",
    "\n",
    "def add_shelf(add_list):\n",
    "    shelf_input = input(\"Введите номер полки: \")\n",
    "   \n",
    "    if shelf_input in add_list:\n",
    "       \n",
    "        #print(\"Такая полка уже существует. Текущий перечень полок: \",*add_list.keys())\n",
    "        return f'Такая полка уже существует. Текущий перечень полок:{list(add_list.keys())}'\n",
    "    else: \n",
    "        #print(\"Полка добавлена. Текущий перечень полок:\", *add_list.keys(), add_list.setdefault(shelf_input, empty_shelf))\n",
    "        return f'Полка добавлена. Текущий перечень полок: {list(add_list.keys())}, {add_list.setdefault(shelf_input, empty_shelf)}'\n",
    "\n",
    "add_shelf(directories)\n"
   ]
  },
  {
   "cell_type": "code",
   "execution_count": null,
   "metadata": {},
   "outputs": [],
   "source": [
    "# # Удаление полки\n",
    "\n",
    "def delete_shelf(delete_list):\n",
    "    shelf_input = input(\"Введите номер полки: \")\n",
    "    for shelf_split_key, shelf_split_value in delete_list.items(): \n",
    "        if shelf_split_value ==  [''] and shelf_input == shelf_split_key:\n",
    "            del(delete_list[shelf_input])\n",
    "           \n",
    "            return f\"Полка удалена. Текущий перечень полок: {list(delete_list.keys())}\"\n",
    "        if shelf_split_value == \"\" and shelf_input == shelf_split_key:\n",
    "            del(delete_list[shelf_input])\n",
    "            \n",
    "            return f\"Полка удалена. Текущий перечень полок: {list(delete_list.keys())}\"\n",
    "        if shelf_split_value == None and shelf_input == shelf_split_key:\n",
    "            del(delete_list[shelf_input])\n",
    "          \n",
    "            return f\"Полка удалена. Текущий перечень полок:{list(delete_list.keys())}\"\n",
    "        \n",
    "        \n",
    "        if shelf_input not in delete_list.keys():\n",
    "           \n",
    "            return f\"Такой полки не существует. Текущий перечень полок: {list(delete_list.keys())}\"\n",
    "    else: \n",
    "          \n",
    "            return f\"На полке есть документа, удалите их перед удалением полки. Текущий перечень полок: {list(delete_list.keys())}\"\n",
    "    \n",
    "delete_shelf(directories)"
   ]
  },
  {
   "cell_type": "code",
   "execution_count": null,
   "metadata": {},
   "outputs": [],
   "source": []
  },
  {
   "cell_type": "code",
   "execution_count": null,
   "metadata": {},
   "outputs": [
    {
     "name": "stdout",
     "output_type": "stream",
     "text": [
      "Введите команду: p\n",
      "Введите номер документа: 10006\n",
      "Владелец документа: Аристарх Павлов\n"
     ]
    }
   ],
   "source": [
    "\n",
    "def main():\n",
    "    while True:\n",
    "        user_input_com = input(\"Введите команду: \")\n",
    "        if user_input_com == \"p\":\n",
    "            print(doc_name(documents))\n",
    "        elif user_input_com == \"s\":\n",
    "            print(shelf_number(directories))\n",
    "        elif user_input_com == \"i\":\n",
    "            print(full_info(documents))\n",
    "        elif user_input_com == \"ads\":\n",
    "            print(add_shelf(directories))\n",
    "        elif user_input_com == \"ds\":\n",
    "            print(delete_shelf(directories))     \n",
    "        elif user_input_com == \"q\":\n",
    "            print(\"Good by\")\n",
    "            break\n",
    "main()\n",
    "\n"
   ]
  },
  {
   "cell_type": "code",
   "execution_count": null,
   "metadata": {},
   "outputs": [],
   "source": []
  }
 ],
 "metadata": {
  "kernelspec": {
   "display_name": "Python 3",
   "language": "python",
   "name": "python3"
  },
  "language_info": {
   "codemirror_mode": {
    "name": "ipython",
    "version": 3
   },
   "file_extension": ".py",
   "mimetype": "text/x-python",
   "name": "python",
   "nbconvert_exporter": "python",
   "pygments_lexer": "ipython3",
   "version": "3.8.5"
  }
 },
 "nbformat": 4,
 "nbformat_minor": 4
}
