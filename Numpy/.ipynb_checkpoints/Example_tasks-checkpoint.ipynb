{
 "cells": [
  {
   "cell_type": "code",
   "execution_count": 98,
   "metadata": {},
   "outputs": [
    {
     "name": "stdout",
     "output_type": "stream",
     "text": [
      "11\n"
     ]
    }
   ],
   "source": [
    "# Задача 1\n",
    "word = \"tes1100t\"\n",
    "calc_len = len(word) % 2\n",
    "if calc_len == 1:\n",
    "    from_index = int((len(word)-1)/2)\n",
    "    to_index = int((len(word)-1)/2+1)\n",
    "    print(word[from_index:to_index])\n",
    "else:\n",
    "    cut_1 = int(len(word)/ 2-1)\n",
    "    cut_2 = int(len(word)/ 2 +1)\n",
    "    print(word[cut_1:cut_2])\n",
    "    "
   ]
  },
  {
   "cell_type": "code",
   "execution_count": null,
   "metadata": {},
   "outputs": [
    {
     "name": "stdout",
     "output_type": "stream",
     "text": [
      "12\n"
     ]
    }
   ],
   "source": [
    "# Задание 2 \n",
    "x_number = int(input())\n",
    "sumx = 1\n",
    "while x_number:\n",
    "    if x_number != 0:\n",
    "        x_number = int(input())\n",
    "    sumx += x_number\n",
    "    #break\n",
    "    print(sumx)"
   ]
  },
  {
   "cell_type": "code",
   "execution_count": 23,
   "metadata": {},
   "outputs": [
    {
     "name": "stdout",
     "output_type": "stream",
     "text": [
      "('Alex', 'Alex')\n",
      "('Arthur', 'Emma')\n",
      "('John', 'Kate')\n",
      "('Peter', 'Liza')\n",
      "('Richard', 'Trisha')\n"
     ]
    }
   ],
   "source": [
    "# Задание 3\n",
    "boys = [\"Peter\", \"Alex\", \"John\", \"Arthur\", \"Richard\"]\n",
    "girls = [\"Kate\", \"Liza\", \"Alex\", \"Emma\", \"Trisha\"]\n",
    "pairs = list(zip(sorted(boys),sorted(girls)))\n",
    "if len(boys) == len(girls):\n",
    "    for new_pairs in pairs:\n",
    "        print(new_pairs)\n",
    "else: \n",
    "    print(\"кто-то может остаться без пары!\")\n",
    "\n"
   ]
  },
  {
   "cell_type": "code",
   "execution_count": 89,
   "metadata": {},
   "outputs": [
    {
     "name": "stdout",
     "output_type": "stream",
     "text": [
      "Средняя температура в странах:\n",
      "Thailand - 23.9 C\n",
      "Germany - 13.8 C\n",
      "Russia - 3.7 C\n",
      "Poland - 12.0 C\n"
     ]
    }
   ],
   "source": [
    "# Задание 4 \n",
    "\n",
    "\n",
    "\n",
    "\n",
    "countries_temperature = [\n",
    "    ['Thailand', [75.2, 77, 78.8, 73.4, 68, 75.2, 77]],\n",
    "    ['Germany', [57.2, 55.4, 59, 59, 53.6]],\n",
    "    ['Russia', [35.6, 37.4, 39.2, 41, 42.8, 39.2, 35.6]],\n",
    "    ['Poland', [50, 50, 53.6, 57.2, 55.4, 55.4]]\n",
    "]\n",
    "\n",
    "\n",
    "sum_temp = 0\n",
    "average_temp = 0\n",
    "print(\"Средняя температура в странах:\")\n",
    "for temp_intial in countries_temperature:\n",
    "    #print(temp_intial[0])\n",
    "    sum_temp = sum(temp_intial[1])\n",
    "    average_temp = round((sum_temp / len(temp_intial[1]) - 32) * 5 / 9,1)\n",
    "    print(f\"{temp_intial[0]} - {average_temp} C\")\n",
    "    \n",
    "\n",
    "    \n",
    "\n",
    "\n",
    "    \n",
    "    \n",
    "      \n",
    "       #print((temp_calc - 32) * 5 / 9)"
   ]
  },
  {
   "cell_type": "code",
   "execution_count": null,
   "metadata": {},
   "outputs": [],
   "source": []
  },
  {
   "cell_type": "code",
   "execution_count": null,
   "metadata": {},
   "outputs": [],
   "source": []
  },
  {
   "cell_type": "code",
   "execution_count": null,
   "metadata": {},
   "outputs": [],
   "source": []
  },
  {
   "cell_type": "code",
   "execution_count": 55,
   "metadata": {},
   "outputs": [
    {
     "data": {
      "text/plain": [
       "[50, 50, 53.6, 57.2, 55.4, 55.4]"
      ]
     },
     "execution_count": 55,
     "metadata": {},
     "output_type": "execute_result"
    }
   ],
   "source": [
    "temp_intial"
   ]
  },
  {
   "cell_type": "code",
   "execution_count": 48,
   "metadata": {},
   "outputs": [
    {
     "data": {
      "text/plain": [
       "1068"
      ]
     },
     "execution_count": 48,
     "metadata": {},
     "output_type": "execute_result"
    }
   ],
   "source": [
    "api_response = [\n",
    "    ['2017-12-26', '777', 185],\n",
    "    ['2017-12-27', '111', 146],\n",
    "    ['2017-12-28', '777', 98],\n",
    "    ['2017-12-29', '777', 206],\n",
    "    ['2017-12-30', '111', 254],\n",
    "    ['2017-12-31', '777', 89],\n",
    "    ['2018-01-01', '111', 54],\n",
    "    ['2018-01-02', '777', 68],\n",
    "    ['2018-01-03', '777', 74],\n",
    "    ['2018-01-04', '111', 89],\n",
    "    ['2018-01-05', '777', 104],\n",
    "    ['2018-01-06', '777', 99],\n",
    "    ['2018-01-07', '777', 145],\n",
    "    ['2018-01-08', '111', 1899],\n",
    "]\n",
    "\n",
    "sum([element[2] for element in api_response if element[1] == '777'])\n"
   ]
  },
  {
   "cell_type": "code",
   "execution_count": 101,
   "metadata": {},
   "outputs": [
    {
     "name": "stdout",
     "output_type": "stream",
     "text": [
      "['2018-01-01', 'user1', '3']\n",
      "['2018-01-07', 'user1', '4']\n",
      "['2018-03-29', 'user1', '1']\n",
      "['2018-04-04', 'user1', '13']\n",
      "['2018-01-05', 'user2', '7']\n",
      "['2018-06-14', 'user3', '4']\n",
      "['2018-07-02', 'user3', '10']\n",
      "['2018-03-21', 'user4', '19']\n",
      "['2018-03-22', 'user4', '4']\n",
      "['2018-04-22', 'user4', '8']\n",
      "['2018-05-03', 'user4', '9']\n",
      "['2018-05-11', 'user4', '11']\n"
     ]
    },
    {
     "data": {
      "text/plain": [
       "4"
      ]
     },
     "execution_count": 101,
     "metadata": {},
     "output_type": "execute_result"
    }
   ],
   "source": [
    "# Задание 5 (нахождение уникальных значений, убирать дубли)\n",
    "stream = [\n",
    "    '2018-01-01,user1,3',\n",
    "    '2018-01-07,user1,4',\n",
    "    '2018-03-29,user1,1',\n",
    "    '2018-04-04,user1,13',\n",
    "    '2018-01-05,user2,7',\n",
    "    '2018-06-14,user3,4',\n",
    "    '2018-07-02,user3,10',\n",
    "    '2018-03-21,user4,19',\n",
    "    '2018-03-22,user4,4',\n",
    "    '2018-04-22,user4,8',\n",
    "    '2018-05-03,user4,9',\n",
    "    '2018-05-11,user4,11',\n",
    "]\n",
    "\n",
    "views = 0\n",
    "users = []\n",
    "\n",
    "for string_split in stream:\n",
    "    string_split_result = string_split.split(\",\")\n",
    "    print(string_split_result)\n",
    "    views += int(string_split_result[2])\n",
    "#print(views)\n",
    "    if string_split_result[1] not in users:\n",
    "        users.append(string_split_result[1])\n",
    "len(users)"
   ]
  },
  {
   "cell_type": "markdown",
   "metadata": {},
   "source": [
    "# Практика. Нужно найти слова, в которых больше 4 или равно букв"
   ]
  },
  {
   "cell_type": "code",
   "execution_count": 2,
   "metadata": {},
   "outputs": [],
   "source": [
    "text_1  = \"Pyhton - высокоуровневый язык программирования, ориентированный, способный на нас и меня \""
   ]
  },
  {
   "cell_type": "code",
   "execution_count": 3,
   "metadata": {},
   "outputs": [],
   "source": [
    "n_1 = 4"
   ]
  },
  {
   "cell_type": "code",
   "execution_count": 18,
   "metadata": {},
   "outputs": [
    {
     "name": "stdout",
     "output_type": "stream",
     "text": [
      "Pyhton\n",
      "высокоуровневый\n",
      "язык\n",
      "программирования\n",
      "ориентированный\n",
      "способный\n",
      "меня\n"
     ]
    }
   ],
   "source": [
    "split_text = text_1.replace(\",\",\"\").replace(\"-\",\"\").split()\n",
    "#print(split_text)\n",
    "for item in split_text:\n",
    "    if len(item) >= n_1:\n",
    "        print(item)"
   ]
  },
  {
   "cell_type": "code",
   "execution_count": 16,
   "metadata": {},
   "outputs": [],
   "source": [
    "\n",
    "for item_2 in text_1:\n",
    "    if len(item_2) >= n_1:\n",
    "        print(item_2)"
   ]
  },
  {
   "cell_type": "code",
   "execution_count": null,
   "metadata": {},
   "outputs": [],
   "source": [
    "# Практика. Нарисовать пирамиду ниже\n",
    "1\n",
    "22\n",
    "333\n",
    "4444\n",
    "55555\n",
    "666666\n",
    "7777777\n",
    "88888888\n",
    "999999999"
   ]
  },
  {
   "cell_type": "code",
   "execution_count": 26,
   "metadata": {},
   "outputs": [
    {
     "name": "stdout",
     "output_type": "stream",
     "text": [
      "\n",
      "1\n",
      "22\n",
      "333\n",
      "4444\n",
      "55555\n",
      "666666\n",
      "7777777\n",
      "88888888\n",
      "999999999\n"
     ]
    }
   ],
   "source": [
    "for i in range(10): # потому что не включая\n",
    "    for k in range(i):\n",
    "        print(i, end = \"\")\n",
    "    print()"
   ]
  },
  {
   "cell_type": "code",
   "execution_count": 30,
   "metadata": {},
   "outputs": [
    {
     "name": "stdout",
     "output_type": "stream",
     "text": [
      "\n",
      "1\n",
      "22\n",
      "333\n",
      "4444\n",
      "55555\n",
      "666666\n",
      "7777777\n",
      "88888888\n"
     ]
    }
   ],
   "source": [
    "for i_2 in range (9):\n",
    "    print(str(i_2)*i_2) #Умножаем строку на саму себя"
   ]
  },
  {
   "cell_type": "code",
   "execution_count": 32,
   "metadata": {},
   "outputs": [],
   "source": [
    "# Найти суммы элементов по главной диагонали в матрице, а потом по обратной "
   ]
  },
  {
   "cell_type": "code",
   "execution_count": 2,
   "metadata": {},
   "outputs": [],
   "source": [
    "data_1 = [\n",
    "    [13, 25, 23, 34],\n",
    "    [45, 32, 44, 47],\n",
    "    [12, 33, 23, 95],\n",
    "    [13, 53, 34, 35]\n",
    "]"
   ]
  },
  {
   "cell_type": "code",
   "execution_count": 6,
   "metadata": {},
   "outputs": [
    {
     "data": {
      "text/plain": [
       "4"
      ]
     },
     "execution_count": 6,
     "metadata": {},
     "output_type": "execute_result"
    }
   ],
   "source": [
    "len(data_1)"
   ]
  },
  {
   "cell_type": "code",
   "execution_count": 11,
   "metadata": {},
   "outputs": [
    {
     "data": {
      "text/plain": [
       "103"
      ]
     },
     "execution_count": 11,
     "metadata": {},
     "output_type": "execute_result"
    }
   ],
   "source": [
    "sum_x_1 = 0\n",
    "i_4 = 0\n",
    "for row in data_1:\n",
    "    sum_x_1 += row[i_4]\n",
    "    i_4 += 1\n",
    "sum_x_1"
   ]
  },
  {
   "cell_type": "markdown",
   "metadata": {},
   "source": [
    "# Вывести построчно фамилии с указанием профессии \n",
    "IT:\n",
    "\n",
    "Гейтс\n",
    "Джобс\n",
    "Возняк\n",
    "\n",
    "Физика:\n",
    "Эйнштейн\n",
    "Фейман\n",
    "\n",
    "  \n"
   ]
  },
  {
   "cell_type": "code",
   "execution_count": 13,
   "metadata": {},
   "outputs": [],
   "source": [
    "profession = [\"IT\", \"Физика\"]\n",
    "person = [[\"Гейтс\", \"Джобс\", \"Возняк\"], [\"Эйнштейн\", \"Фейман\"]]"
   ]
  },
  {
   "cell_type": "code",
   "execution_count": 26,
   "metadata": {},
   "outputs": [
    {
     "name": "stdout",
     "output_type": "stream",
     "text": [
      "[('IT', ['Гейтс', 'Джобс', 'Возняк']), ('Физика', ['Эйнштейн', 'Фейман'])]\n"
     ]
    }
   ],
   "source": [
    "o = zip(profession,person)\n",
    "print(list(o))"
   ]
  },
  {
   "cell_type": "code",
   "execution_count": 33,
   "metadata": {},
   "outputs": [
    {
     "name": "stdout",
     "output_type": "stream",
     "text": [
      "IT:\n",
      "Гейтс\n",
      "Джобс\n",
      "Возняк\n",
      "\n",
      "Физика:\n",
      "Эйнштейн\n",
      "Фейман\n",
      "\n"
     ]
    }
   ],
   "source": [
    "for k, m in zip(profession,person):\n",
    "    print(k + \":\")\n",
    "    for z in m:\n",
    "        print(z)\n",
    "    print() # ставим за пределами, чтобы разделить, сделать пробел"
   ]
  }
 ],
 "metadata": {
  "kernelspec": {
   "display_name": "Python 3",
   "language": "python",
   "name": "python3"
  },
  "language_info": {
   "codemirror_mode": {
    "name": "ipython",
    "version": 3
   },
   "file_extension": ".py",
   "mimetype": "text/x-python",
   "name": "python",
   "nbconvert_exporter": "python",
   "pygments_lexer": "ipython3",
   "version": "3.8.5"
  }
 },
 "nbformat": 4,
 "nbformat_minor": 4
}
