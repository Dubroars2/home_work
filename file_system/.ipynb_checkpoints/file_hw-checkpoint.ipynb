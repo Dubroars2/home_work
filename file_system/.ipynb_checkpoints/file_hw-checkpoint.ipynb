{
 "cells": [
  {
   "cell_type": "code",
   "execution_count": 1,
   "metadata": {},
   "outputs": [],
   "source": [
    "import json\n",
    "    "
   ]
  },
  {
   "cell_type": "code",
   "execution_count": null,
   "metadata": {},
   "outputs": [],
   "source": [
    "purchases = {}\n",
    "i = 0\n",
    "with open(\"purchase_log.txt\", encoding =\"utf-8\") as f:\n",
    "    f.readline()\n",
    "    for line in f:\n",
    "        line = line.strip()\n",
    "        new_list = json.loads(line)\n",
    "        for x in new_list.items():\n",
    "            key = new_list[\"user_id\"]\n",
    "            value = new_list[\"category\"]\n",
    "            purchases[key] = value\n",
    "        #print(purchases)\n",
    "        \n",
    "        #i += 1\n",
    "       # if i > 3:\n",
    "        break\n",
    "    "
   ]
  },
  {
   "cell_type": "code",
   "execution_count": 25,
   "metadata": {},
   "outputs": [],
   "source": [
    "with open(\"visit_log.csv\", \"r\", encoding =\"utf-8\") as f_read:\n",
    "    with open(\"funnel.csv\", \"w\",  encoding =\"utf-8\") as f_write_:\n",
    "        for true_list in f_read:\n",
    "            true_list = true_list.strip().split(\",\")\n",
    "            if true_list[0] in purchases.keys():\n",
    "                true_list.append(purchases.get(true_list[0]))\n",
    "                f_write_.write(\",\".join(true_list) + \"\\n\")"
   ]
  }
 ],
 "metadata": {
  "kernelspec": {
   "display_name": "Python 3",
   "language": "python",
   "name": "python3"
  },
  "language_info": {
   "codemirror_mode": {
    "name": "ipython",
    "version": 3
   },
   "file_extension": ".py",
   "mimetype": "text/x-python",
   "name": "python",
   "nbconvert_exporter": "python",
   "pygments_lexer": "ipython3",
   "version": "3.8.5"
  }
 },
 "nbformat": 4,
 "nbformat_minor": 4
}
