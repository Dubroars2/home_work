{
 "cells": [
  {
   "cell_type": "code",
   "execution_count": 1,
   "metadata": {},
   "outputs": [],
   "source": [
    "# Задание 1\n",
    "#The Moscow Times - Wednesday, October 2, 2002\n",
    "#The Guardian - Friday, 11.10.13\n",
    "#Daily News - Thursday, 18 August 1977"
   ]
  },
  {
   "cell_type": "code",
   "execution_count": 1,
   "metadata": {},
   "outputs": [],
   "source": [
    "from datetime import datetime, timedelta"
   ]
  },
  {
   "cell_type": "code",
   "execution_count": 3,
   "metadata": {},
   "outputs": [
    {
     "name": "stdout",
     "output_type": "stream",
     "text": [
      "2002-10-02 00:00:00\n"
     ]
    }
   ],
   "source": [
    "The_Moscow_Times = \"Wednesday, October 2, 2002\"\n",
    "print(datetime.strptime(The_Moscow_Times,'%A, %B %d, %Y'))\n"
   ]
  },
  {
   "cell_type": "code",
   "execution_count": 4,
   "metadata": {},
   "outputs": [
    {
     "name": "stdout",
     "output_type": "stream",
     "text": [
      "2013-10-11 00:00:00\n"
     ]
    }
   ],
   "source": [
    "The_Guardian = \"Friday, 11.10.13\"\n",
    "print(datetime.strptime(The_Guardian, \"%A, %d.%m.%y\"))"
   ]
  },
  {
   "cell_type": "code",
   "execution_count": 5,
   "metadata": {},
   "outputs": [
    {
     "name": "stdout",
     "output_type": "stream",
     "text": [
      "1977-08-18 00:00:00\n"
     ]
    }
   ],
   "source": [
    "Daily_News = \"Thursday, 18 August 1977\"\n",
    "print(datetime.strptime(Daily_News,\"%A, %d %B %Y\"))\n"
   ]
  },
  {
   "cell_type": "code",
   "execution_count": 72,
   "metadata": {},
   "outputs": [],
   "source": [
    "# Задание 2\n",
    "stream = [\"2018-04-02\", \"2018-02-29\", \"2018-19-02\"]"
   ]
  },
  {
   "cell_type": "code",
   "execution_count": 68,
   "metadata": {},
   "outputs": [],
   "source": [
    "def date_check(check):\n",
    "    try:\n",
    "        datetime.strptime(check, \"%Y-%m-%d\")  \n",
    "        return True\n",
    "    except:  \n",
    "        return False"
   ]
  },
  {
   "cell_type": "code",
   "execution_count": 73,
   "metadata": {},
   "outputs": [
    {
     "name": "stdout",
     "output_type": "stream",
     "text": [
      "True\n",
      "False\n",
      "False\n"
     ]
    }
   ],
   "source": [
    "for n in stream:\n",
    "    print(date_check(n))"
   ]
  },
  {
   "cell_type": "code",
   "execution_count": 31,
   "metadata": {},
   "outputs": [
    {
     "name": "stdout",
     "output_type": "stream",
     "text": [
      "Введите начальную дату в формате 'YYYY-MM-DD':2018-04-02\n",
      "Введите конечную дату в формате 'YYYY-MM-DD':2018-04-04\n",
      "2018-04-02 00:00:00\n",
      "2018-04-03 00:00:00\n",
      "2018-04-04 00:00:00\n"
     ]
    },
    {
     "data": {
      "text/plain": [
       "2"
      ]
     },
     "execution_count": 31,
     "metadata": {},
     "output_type": "execute_result"
    }
   ],
   "source": [
    "# Задание 3\n",
    "def date_range():\n",
    "    p = []\n",
    "    start_date = input(\"Введите начальную дату в формате 'YYYY-MM-DD':\")\n",
    "    end_date = input(\"Введите конечную дату в формате 'YYYY-MM-DD':\")\n",
    "    try: \n",
    "        if datetime.strptime(end_date, \"%Y-%m-%d\") <  datetime.strptime(start_date, \"%Y-%m-%d\"):\n",
    "            print(p)\n",
    "        else:\n",
    "            datetime.strptime(end_date, \"%Y-%m-%d\")\n",
    "            datetime.strptime(start_date, \"%Y-%m-%d\")\n",
    "            date_diff = datetime.strptime(end_date, \"%Y-%m-%d\")- datetime.strptime(start_date, \"%Y-%m-%d\")\n",
    "            for m in range(date_diff.days + 1):\n",
    "                print(datetime.strptime(start_date, \"%Y-%m-%d\") + timedelta(m))\n",
    "            \n",
    "            return date_diff.days\n",
    "    except:\n",
    "        return p\n",
    "        \n",
    "date_range()"
   ]
  }
 ],
 "metadata": {
  "kernelspec": {
   "display_name": "Python 3",
   "language": "python",
   "name": "python3"
  },
  "language_info": {
   "codemirror_mode": {
    "name": "ipython",
    "version": 3
   },
   "file_extension": ".py",
   "mimetype": "text/x-python",
   "name": "python",
   "nbconvert_exporter": "python",
   "pygments_lexer": "ipython3",
   "version": "3.8.5"
  }
 },
 "nbformat": 4,
 "nbformat_minor": 4
}
