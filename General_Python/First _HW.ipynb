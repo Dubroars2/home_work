{
 "cells": [
  {
   "cell_type": "code",
   "execution_count": 1,
   "metadata": {},
   "outputs": [
    {
     "name": "stdout",
     "output_type": "stream",
     "text": [
      "Фраза 1 длинее фразы 2\n"
     ]
    }
   ],
   "source": [
    "# Задание 1\n",
    "phrase_1 = \"Пусть дни тогда были короче, луна нам светила длинней - Есенин\"\n",
    "phrase_2 = \"Пусть дни тогда были короче, луна нам светила длинней\"\n",
    "\n",
    "\n",
    "if len(phrase_1) > len(phrase_2):\n",
    "    print (\"Фраза 1 длинее фразы 2\")\n",
    "elif len(phrase_1) < len(phrase_2):\n",
    "    print (\"Фраза 2 длинее фразы 1\")    \n",
    "else: \n",
    "        print (\"Фразы равны\")"
   ]
  },
  {
   "cell_type": "code",
   "execution_count": 2,
   "metadata": {},
   "outputs": [
    {
     "name": "stdout",
     "output_type": "stream",
     "text": [
      "Обычный год\n"
     ]
    }
   ],
   "source": [
    "# Задание 2\n",
    "\n",
    "year = 2021\n",
    "\n",
    "if year % 4 == 0:\n",
    "    print(\"Високосный год\")\n",
    "else:\n",
    "    print(\"Обычный год\")"
   ]
  },
  {
   "cell_type": "code",
   "execution_count": 3,
   "metadata": {},
   "outputs": [
    {
     "name": "stdout",
     "output_type": "stream",
     "text": [
      "Введите день: 3\n",
      "Введите месяц (цифра): 12\n",
      "Ваш знак зодиака: Стрелец\n"
     ]
    }
   ],
   "source": [
    "# Задание 3\n",
    "\n",
    "day_user = int(input(\"Введите день: \"))\n",
    "month_user = int(input(\"Введите месяц (цифра): \"))\n",
    "\n",
    "if month_user == 3 and (day_user >= 21 and day_user <= 31):\n",
    "    print(\"Ваш знак зодиака: Овен\")\n",
    "elif month_user == 4 and (day_user >= 1 and day_user <= 20):\n",
    "    print(\"Ваш знак зодиака: Овен\")\n",
    "elif month_user == 4  and (day_user >= 21 and day_user <= 31):\n",
    "        print(\"Ваш знак зодиака: Телец\")\n",
    "elif month_user == 5 and (day_user >= 1 and day_user <= 20):\n",
    "        print(\"Ваш знак зодиака: Телец\")\n",
    "elif month_user == 5  and (day_user >= 21 and day_user <= 31):\n",
    "    print(\"Ваш знак зодиака: Близнецы\")\n",
    "elif month_user == 6  and (day_user >= 1 and day_user <= 20):\n",
    "    print(\"Ваш знак зодиака: Близнецы\")\n",
    "elif month_user == 6  and (day_user >= 21 and day_user <= 31):\n",
    "    print(\"Ваш знак зодиака: Рак\")\n",
    "elif month_user == 7  and (day_user >= 1 and day_user <= 22):\n",
    "    print(\"Ваш знак зодиака: Рак\")\n",
    "elif month_user == 7  and (day_user >= 23 and day_user <= 31):\n",
    "    print(\"Ваш знак зодиака: Лев\")\n",
    "elif month_user == 8  and (day_user >= 1 and day_user <= 22):\n",
    "    print(\"Ваш знак зодиака: Лев\")\n",
    "elif month_user == 8  and (day_user >= 23 and day_user <= 31):\n",
    "    print(\"Ваш знак зодиака: Дева\")\n",
    "elif month_user == 9  and (day_user >= 1 and day_user <= 23):\n",
    "    print(\"Ваш знак зодиака: Дева\")\n",
    "elif month_user == 9  and (day_user >= 24 and day_user <= 31):\n",
    "    print(\"Ваш знак зодиака: Весы\")\n",
    "elif month_user == 10  and (day_user >= 1 and day_user <= 23):\n",
    "    print(\"Ваш знак зодиака: Весы\")\n",
    "elif month_user == 10  and (day_user >= 24 and day_user <= 31):\n",
    "    print(\"Ваш знак зодиака: Скорпион\")\n",
    "elif month_user == 11  and (day_user >= 1 and day_user <= 21):\n",
    "    print(\"Ваш знак зодиака: Скорпион\")\n",
    "elif month_user == 11  and (day_user >= 22 and day_user <= 31):\n",
    "    print(\"Ваш знак зодиака: Стрелец\")\n",
    "elif month_user == 12  and (day_user >= 1 and day_user <= 21):\n",
    "    print(\"Ваш знак зодиака: Стрелец\")\n",
    "elif month_user == 12  and (day_user >= 22 and day_user <= 31):\n",
    "    print(\"Ваш знак зодиака: Козерог\")\n",
    "elif month_user == 1  and (day_user >= 1 and day_user <= 19):\n",
    "    print(\"Ваш знак зодиака: Козерог\")\n",
    "elif month_user == 1  and (day_user >= 22 and day_user <= 31):\n",
    "    print(\"Ваш знак зодиака: Водолей\")\n",
    "elif month_user == 2  and (day_user >= 1 and day_user <= 18):\n",
    "    print(\"Ваш знак зодиака: Водолей\")\n",
    "elif month_user == 2  and (day_user >= 19 and day_user <= 31):\n",
    "    print(\"Ваш знак зодиака: Рыба\")\n",
    "elif month_user == 3  and (day_user >= 1 and day_user <= 20):\n",
    "    print(\"Ваш знак зодиака: Рабы\")\n",
    "else:\n",
    "    print(\"Error\")"
   ]
  },
  {
   "cell_type": "code",
   "execution_count": 5,
   "metadata": {},
   "outputs": [
    {
     "name": "stdout",
     "output_type": "stream",
     "text": [
      "Упаковка для лыж\n"
     ]
    }
   ],
   "source": [
    "# Задание 4\n",
    "\n",
    "width = 10\n",
    "length = 205\n",
    "height = 5\n",
    "\n",
    "if width <= 15 and length <= 15 and height <= 15:\n",
    "    print(\"Коробка №1\")\n",
    "elif length > 200:\n",
    "    print(\"Упаковка для лыж\")\n",
    "elif (width >= 15 and width <= 50) or (length >= 15 and length <= 50) or (height >= 15 and height <= 50):\n",
    "    print(\"Коробка №2\")\n",
    "else:\n",
    "    print(\"Стандартная коробка №3\")"
   ]
  },
  {
   "cell_type": "code",
   "execution_count": 6,
   "metadata": {},
   "outputs": [
    {
     "name": "stdout",
     "output_type": "stream",
     "text": [
      "345234\n",
      "Несчастливый билет\n"
     ]
    }
   ],
   "source": [
    "# Задание 5\n",
    "\n",
    "a = [int(i) for i in input()]\n",
    "if sum(a[:3]) == sum(a[3:]):\n",
    "    print(\"Счастливый билет\")\n",
    "else:\n",
    "    print (\"Несчастливый билет\")"
   ]
  },
  {
   "cell_type": "code",
   "execution_count": 7,
   "metadata": {},
   "outputs": [
    {
     "name": "stdout",
     "output_type": "stream",
     "text": [
      "Введите тип фигуры: треугольник\n",
      "Введите сторону A: 1\n",
      "Введите сторону B: 2\n",
      "Введите сторону C: 3\n",
      "0.0\n"
     ]
    }
   ],
   "source": [
    "# Задание 6\n",
    "a = input(\"Введите тип фигуры: \")\n",
    "if a == \"Круг\" or a == \"круг\" or a == \"КРУГ\":\n",
    "    print(int(input(\"Введите радиус круга \"))**2*3.1415926535)\n",
    "elif a == \"Треугольник\" or a == \"ТРЕУГОЛЬНИК\" or a == \"треугольник\":\n",
    "    A = int(input(\"Введите сторону A: \"))\n",
    "    B = int(input(\"Введите сторону B: \"))\n",
    "    C = int(input(\"Введите сторону C: \"))\n",
    "    print((((A+B+C)/2) * (((A+B+C)/2) -A) * (((A+B+C)/2) -B)* (((A+B+C)/2) -C)) ** 0.5)  \n",
    "elif a == \"Прямоугольник\" or a == \"прямоугольник\" or a == \"ПРЯМОУГОЛЬНИК\": \n",
    "    A = int(input(\"Введите сторону A: \"))\n",
    "    B = int(input(\"Введите сторону B: \"))\n",
    "    print(A*B)\n",
    "\n",
    "else: \n",
    "    print(\"Error\")"
   ]
  }
 ],
 "metadata": {
  "kernelspec": {
   "display_name": "Python 3",
   "language": "python",
   "name": "python3"
  },
  "language_info": {
   "codemirror_mode": {
    "name": "ipython",
    "version": 3
   },
   "file_extension": ".py",
   "mimetype": "text/x-python",
   "name": "python",
   "nbconvert_exporter": "python",
   "pygments_lexer": "ipython3",
   "version": "3.8.5"
  }
 },
 "nbformat": 4,
 "nbformat_minor": 4
}
